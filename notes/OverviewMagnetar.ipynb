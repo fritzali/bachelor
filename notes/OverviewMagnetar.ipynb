{
 "cells": [
  {
   "cell_type": "markdown",
   "id": "d7413272",
   "metadata": {},
   "source": [
    "### Overview: Magnetar"
   ]
  },
  {
   "cell_type": "code",
   "execution_count": 1,
   "id": "75480c00",
   "metadata": {},
   "outputs": [],
   "source": [
    "import matplotlib.pyplot as plt\n",
    "import numpy as np"
   ]
  },
  {
   "cell_type": "markdown",
   "id": "16247ac5",
   "metadata": {},
   "source": [
    "Test"
   ]
  }
 ],
 "metadata": {
  "kernelspec": {
   "display_name": "Python 3 (ipykernel)",
   "language": "python",
   "name": "python3"
  },
  "language_info": {
   "codemirror_mode": {
    "name": "ipython",
    "version": 3
   },
   "file_extension": ".py",
   "mimetype": "text/x-python",
   "name": "python",
   "nbconvert_exporter": "python",
   "pygments_lexer": "ipython3",
   "version": "3.9.12"
  }
 },
 "nbformat": 4,
 "nbformat_minor": 5
}
