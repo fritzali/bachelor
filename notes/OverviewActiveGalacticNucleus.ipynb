{
 "cells": [
  {
   "cell_type": "markdown",
   "id": "ef36a88d",
   "metadata": {},
   "source": [
    "### Overview: Active Galactic Nucleus"
   ]
  },
  {
   "cell_type": "code",
   "execution_count": 1,
   "id": "2064bef2",
   "metadata": {},
   "outputs": [],
   "source": [
    "%config InlineBackend.figure_formats = ['svg']\n",
    "\n",
    "import matplotlib.pyplot as plt\n",
    "import numpy as np\n",
    "\n",
    "plt.rcParams['figure.figsize'] = [7.5, 5]"
   ]
  }
 ],
 "metadata": {
  "kernelspec": {
   "display_name": "Python 3 (ipykernel)",
   "language": "python",
   "name": "python3"
  },
  "language_info": {
   "codemirror_mode": {
    "name": "ipython",
    "version": 3
   },
   "file_extension": ".py",
   "mimetype": "text/x-python",
   "name": "python",
   "nbconvert_exporter": "python",
   "pygments_lexer": "ipython3",
   "version": "3.9.12"
  }
 },
 "nbformat": 4,
 "nbformat_minor": 5
}
