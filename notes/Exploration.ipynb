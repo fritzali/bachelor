{
 "cells": [
  {
   "cell_type": "markdown",
   "id": "48668c7c",
   "metadata": {},
   "source": [
    "# Exploration\n",
    "\n",
    "Modelling of neutrinos via decays in astrophysical sources requires some generally applicable steps. First, the relevant portions of the source environment have to be understood. This foundation is translated to energetic hadron spectra for injection and production. Finally, we obtain the neutrino spectrum from decaying the previous particles, allowing ultrahigh energy cosmic rays to propagate over large distances.\n",
    "\n",
    "##### Importing Packages"
   ]
  },
  {
   "cell_type": "code",
   "execution_count": 1,
   "id": "9ab7d14c",
   "metadata": {},
   "outputs": [],
   "source": [
    "import matplotlib as mpl\n",
    "import matplotlib.pyplot as plt\n",
    "import numpy as np\n",
    "import scipy as sci\n",
    "import scipy.constants as const"
   ]
  },
  {
   "cell_type": "markdown",
   "id": "8bc42a09",
   "metadata": {},
   "source": [
    "##### Setting Display Options"
   ]
  },
  {
   "cell_type": "code",
   "execution_count": 2,
   "id": "5a82444c",
   "metadata": {},
   "outputs": [],
   "source": [
    "%config InlineBackend.figure_formats = ['svg']\n",
    "\n",
    "mpl.rcParams['axes.prop_cycle'] = mpl.cycler(color = ['olivedrab', 'steelblue', 'firebrick', 'goldenrod'])\n",
    "mpl.rcParams['figure.figsize'] = [8, 5]\n",
    "mpl.rcParams['figure.constrained_layout.use'] = True\n",
    "mpl.rcParams['legend.frameon'] = False\n",
    "mpl.rcParams['xtick.minor.visible'] = True\n",
    "mpl.rcParams['ytick.minor.visible'] = True"
   ]
  },
  {
   "cell_type": "markdown",
   "id": "dbba347a",
   "metadata": {},
   "source": [
    "## Table of Contents\n",
    "* [1 Environments of Astrophysical Sources](#1-Environments-of-Astrophysical-Sources)\n",
    "  * [1.1 Magnetars](#1.1-Magnetars)\n",
    "  * [1.2 Active Galactic Nuclei](#1.2-Active-Galactic-Nuclei)\n",
    "* [2 Hadronic Spectra in the Region of Origin]()\n",
    "  * [2.1 Injection]()\n",
    "  * [2.2 Production]()\n",
    "* [3 Neutrino Spectrum at the Detector]()\n",
    "  * [3.1 Decay Processes]()\n",
    "  * [3.2 Measurement]()\n",
    "\n",
    "\n",
    "## 1 Environments of Astrophysical Sources\n",
    "\n",
    "\n",
    "### 1.1 Magnetars"
   ]
  },
  {
   "cell_type": "code",
   "execution_count": null,
   "id": "b7616d7f",
   "metadata": {},
   "outputs": [],
   "source": []
  },
  {
   "cell_type": "markdown",
   "id": "a7e91b69",
   "metadata": {},
   "source": [
    "### 1.2 Active Galactic Nuclei"
   ]
  },
  {
   "cell_type": "markdown",
   "id": "0dbde2bf",
   "metadata": {},
   "source": [
    "## 2 Hadronic Spectra in the Region of Origin"
   ]
  },
  {
   "cell_type": "markdown",
   "id": "582ae6c7",
   "metadata": {},
   "source": [
    "### 2.1 Injection"
   ]
  },
  {
   "cell_type": "markdown",
   "id": "6a1ed042",
   "metadata": {},
   "source": [
    "### 2.2 Production"
   ]
  },
  {
   "cell_type": "markdown",
   "id": "4d553aac",
   "metadata": {},
   "source": [
    "## 3 Neutrino Spectrum at the Detector"
   ]
  },
  {
   "cell_type": "markdown",
   "id": "5e202832",
   "metadata": {},
   "source": [
    "### 3.1 Decay Processes"
   ]
  },
  {
   "cell_type": "markdown",
   "id": "d2e2297f",
   "metadata": {},
   "source": [
    "### 3.2 Measurement"
   ]
  }
 ],
 "metadata": {
  "kernelspec": {
   "display_name": "Python 3 (ipykernel)",
   "language": "python",
   "name": "python3"
  },
  "language_info": {
   "codemirror_mode": {
    "name": "ipython",
    "version": 3
   },
   "file_extension": ".py",
   "mimetype": "text/x-python",
   "name": "python",
   "nbconvert_exporter": "python",
   "pygments_lexer": "ipython3",
   "version": "3.9.19"
  }
 },
 "nbformat": 4,
 "nbformat_minor": 5
}
