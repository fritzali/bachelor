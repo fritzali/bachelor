{
 "cells": [
  {
   "cell_type": "markdown",
   "id": "96de911b",
   "metadata": {},
   "source": [
    "# Exploration\n",
    "\n",
    "Modelling of neutrinos via decays in astrophysical sources requires some generally applicable steps. First, the relevant portions of the source environment have to be understood. This foundation is translated to energetic hadron spectra for injection and production. Finally, we obtain the neutrino spectrum from decaying the previous particles, allowing ultrahigh energy cosmic rays to propagate over large distances.\n",
    "\n",
    "##### Importing Packages"
   ]
  },
  {
   "cell_type": "code",
   "execution_count": 1,
   "id": "af84d0f7",
   "metadata": {},
   "outputs": [],
   "source": [
    "import matplotlib as mpl\n",
    "import matplotlib.pyplot as plt\n",
    "import numpy as np\n",
    "import sympy as sym\n",
    "import scipy as sci\n",
    "import scipy.constants as const"
   ]
  },
  {
   "cell_type": "markdown",
   "id": "19991d40",
   "metadata": {},
   "source": [
    "##### Setting Display Options"
   ]
  },
  {
   "cell_type": "code",
   "execution_count": 2,
   "id": "22bbd824",
   "metadata": {},
   "outputs": [],
   "source": [
    "%config InlineBackend.figure_formats = ['svg']\n",
    "\n",
    "mpl.rcParams['axes.prop_cycle'] = mpl.cycler(color = ['olivedrab', 'steelblue', 'firebrick', 'goldenrod'])\n",
    "mpl.rcParams['figure.figsize'] = [8, 5]\n",
    "mpl.rcParams['figure.constrained_layout.use'] = True\n",
    "mpl.rcParams['legend.frameon'] = False\n",
    "mpl.rcParams['xtick.minor.visible'] = True\n",
    "mpl.rcParams['ytick.minor.visible'] = True"
   ]
  },
  {
   "cell_type": "markdown",
   "id": "dcb1ea8e",
   "metadata": {},
   "source": [
    "## Table of Contents\n",
    "* [1 Environments of Astrophysical Sources](#1-Environments-of-Astrophysical-Sources)\n",
    "  * [1.1 Magnetars](#1.1-Magnetars)\n",
    "  * [1.2 Active Galactic Nuclei](#1.2-Active-Galactic-Nuclei)\n",
    "* [2 Hadronic Spectra in the Region of Origin]()\n",
    "  * [2.1 Injection]()\n",
    "  * [2.2 Production]()\n",
    "* [3 Neutrino Spectrum at the Detector]()\n",
    "  * [3.1 Decay Processes]()\n",
    "  * [3.2 Measurement]()\n",
    "\n",
    "\n",
    "## 1 Environments of Astrophysical Sources\n",
    "\n",
    "\n",
    "### 1.1 Magnetars"
   ]
  },
  {
   "cell_type": "code",
   "execution_count": 7,
   "id": "a380b67e",
   "metadata": {
    "scrolled": false
   },
   "outputs": [
    {
     "data": {
      "text/latex": [
       "$\\displaystyle \\int\\limits_{0}^{t} \\frac{\\delta\\left(E - \\frac{1}{1 + \\frac{s}{d}}\\right)}{1 + \\frac{s}{d}}\\, ds$"
      ],
      "text/plain": [
       "Integral(DiracDelta(E - 1/(1 + s/d))/(1 + s/d), (s, 0, t))"
      ]
     },
     "execution_count": 7,
     "metadata": {},
     "output_type": "execute_result"
    }
   ],
   "source": [
    "s, t, d, E = sym.symbols('s, t, d, E')\n",
    "f = lambda s, E: sym.DiracDelta(E - (1 + s/d)**-1) * (1 + s/d)**-1\n",
    "g = sym.Integral(f(s, E), (s, 0, t))\n",
    "h = sym.lambdify((t, d, E), g.doit().simplify(), modules = ['numpy'])\n",
    "g.evalf()"
   ]
  },
  {
   "cell_type": "code",
   "execution_count": 4,
   "id": "e0f5aa48",
   "metadata": {},
   "outputs": [
    {
     "data": {
      "text/latex": [
       "$\\displaystyle \\int\\limits_{0}^{t} \\frac{\\delta\\left(E - \\frac{1}{1 + \\frac{s}{d}}\\right)}{1 + \\frac{s}{d}}\\, ds$"
      ],
      "text/plain": [
       "Integral(DiracDelta(E - 1/(1 + s/d))/(1 + s/d), (s, 0, t))"
      ]
     },
     "execution_count": 4,
     "metadata": {},
     "output_type": "execute_result"
    }
   ],
   "source": [
    "g"
   ]
  },
  {
   "cell_type": "code",
   "execution_count": 5,
   "id": "769099c7",
   "metadata": {},
   "outputs": [
    {
     "data": {
      "text/latex": [
       "$\\displaystyle d \\int\\limits_{0}^{t} \\frac{\\delta\\left(E - \\frac{1}{1 + \\frac{s}{d}}\\right)}{d + s}\\, ds$"
      ],
      "text/plain": [
       "d*Integral(DiracDelta(E - 1/(1 + s/d))/(d + s), (s, 0, t))"
      ]
     },
     "execution_count": 5,
     "metadata": {},
     "output_type": "execute_result"
    }
   ],
   "source": [
    "g.doit()"
   ]
  },
  {
   "cell_type": "code",
   "execution_count": 6,
   "id": "6ebaea22",
   "metadata": {},
   "outputs": [
    {
     "data": {
      "text/latex": [
       "$\\displaystyle d \\int\\limits_{0}^{t} \\frac{\\delta\\left(\\frac{E d}{d + s} + \\frac{E s}{d + s} - \\frac{d}{d + s}\\right)}{d + s}\\, ds$"
      ],
      "text/plain": [
       "d*Integral(DiracDelta(E*d/(d + s) + E*s/(d + s) - d/(d + s))/(d + s), (s, 0, t))"
      ]
     },
     "execution_count": 6,
     "metadata": {},
     "output_type": "execute_result"
    }
   ],
   "source": [
    "g.doit().simplify()"
   ]
  },
  {
   "cell_type": "markdown",
   "id": "c5980783",
   "metadata": {},
   "source": [
    "### 1.2 Active Galactic Nuclei"
   ]
  },
  {
   "cell_type": "markdown",
   "id": "a2480551",
   "metadata": {},
   "source": [
    "## 2 Hadronic Spectra in the Region of Origin"
   ]
  },
  {
   "cell_type": "markdown",
   "id": "a323b80b",
   "metadata": {},
   "source": [
    "### 2.1 Injection"
   ]
  },
  {
   "cell_type": "markdown",
   "id": "4cedbf6d",
   "metadata": {},
   "source": [
    "### 2.2 Production"
   ]
  },
  {
   "cell_type": "markdown",
   "id": "69754cfb",
   "metadata": {},
   "source": [
    "## 3 Neutrino Spectrum at the Detector"
   ]
  },
  {
   "cell_type": "markdown",
   "id": "b9d5bc96",
   "metadata": {},
   "source": [
    "### 3.1 Decay Processes"
   ]
  },
  {
   "cell_type": "markdown",
   "id": "5237bd0d",
   "metadata": {},
   "source": [
    "### 3.2 Measurement"
   ]
  }
 ],
 "metadata": {
  "kernelspec": {
   "display_name": "Python 3 (ipykernel)",
   "language": "python",
   "name": "python3"
  },
  "language_info": {
   "codemirror_mode": {
    "name": "ipython",
    "version": 3
   },
   "file_extension": ".py",
   "mimetype": "text/x-python",
   "name": "python",
   "nbconvert_exporter": "python",
   "pygments_lexer": "ipython3",
   "version": "3.9.19"
  }
 },
 "nbformat": 4,
 "nbformat_minor": 5
}
