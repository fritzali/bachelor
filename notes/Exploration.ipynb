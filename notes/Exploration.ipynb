{
 "cells": [
  {
   "cell_type": "markdown",
   "id": "48668c7c",
   "metadata": {},
   "source": [
    "# Exploration\n",
    "\n",
    "Modelling of neutrinos via decays in astrophysical sources requires some generally applicable steps. First, the relevant portions of the source environment have to be understood. This foundation is translated to energetic hadron spectra for injection and production. Finally, we obtain the neutrino spectrum from decaying the previous particles, allowing ultrahigh energy cosmic rays to propagate over large distances.\n",
    "\n",
    "##### Importing Packages"
   ]
  },
  {
   "cell_type": "code",
   "execution_count": 1,
   "id": "9ab7d14c",
   "metadata": {},
   "outputs": [],
   "source": [
    "import matplotlib as mpl\n",
    "import matplotlib.pyplot as plt\n",
    "import numpy as np\n",
    "import scipy as sci\n",
    "import scipy.constants as const"
   ]
  },
  {
   "cell_type": "markdown",
   "id": "8bc42a09",
   "metadata": {},
   "source": [
    "##### Setting Display Options"
   ]
  },
  {
   "cell_type": "code",
   "execution_count": 2,
   "id": "5a82444c",
   "metadata": {},
   "outputs": [],
   "source": [
    "%config InlineBackend.figure_formats = ['svg']\n",
    "\n",
    "mpl.rcParams['axes.prop_cycle'] = mpl.cycler(color = ['olivedrab', 'steelblue', 'firebrick', 'goldenrod'])\n",
    "mpl.rcParams['figure.figsize'] = [8, 5]\n",
    "mpl.rcParams['figure.constrained_layout.use'] = True\n",
    "mpl.rcParams['legend.frameon'] = False\n",
    "mpl.rcParams['xtick.minor.visible'] = True\n",
    "mpl.rcParams['ytick.minor.visible'] = True"
   ]
  },
  {
   "cell_type": "markdown",
   "id": "dbba347a",
   "metadata": {},
   "source": [
    "## Table of Contents\n",
    "* [1 Environments of Astrophysical Sources](#1-Environments-of-Astrophysical-Sources)\n",
    "  * [1.1 Magnetars](#1.1-Magnetars)\n",
    "  * [1.2 Active Galactic Nuclei](#1.2-Active-Galactic-Nuclei)\n",
    "* [2 Hadronic Spectra in the Region of Origin](#2-Hadronic-Spectra-in-the-Region-of-Origin)\n",
    "  * [2.1 Injection](#2.1-Injection)\n",
    "    * [2.1.1 Magnetar](#2.1.1-Magnetar)\n",
    "    * [2.1.2 Active Galactic Nucleus](#2.1.2-Active-Galactic-Nucleus)\n",
    "  * [2.2 Production](#2.2-Production)\n",
    "    * [2.2.1 Magnetar](#2.2.1-Magnetar)\n",
    "    * [2.2.2 Active Galactic Nucleus](#2.2.2-Active-Galactic-Nucleus)\n",
    "* [3 Neutrino Spectrum at the Detector](#3-Neutrino-Spectrum-at-the-Detector)\n",
    "  * [3.1 Decay Processes](#3.1-Decay-Processes)\n",
    "  * [3.2 Measurement](#3.2-Measurement)\n",
    "\n",
    "\n",
    "\n",
    "## 1 Environments of Astrophysical Sources\n",
    "\n",
    "\n",
    "### 1.1 Magnetars\n",
    "\n",
    "##### Radiative Energy Losses\n",
    "\n",
    "* $E \\propto \\omega^2$\n",
    "* $\\dot{E} \\propto \\omega\\,\\dot{\\omega}$\n",
    "* $\\dot{\\omega} \\propto \\omega^n$\n",
    "\n",
    "##### Braking Index\n",
    "\n",
    "* Pure Gravitational or Electromagnetic Quadrupoles\n",
    "  * $n = 5$\n",
    "* Pure Magnetic Dipole\n",
    "  * $n = 3$\n",
    "\n",
    "##### Characteristic Time Scale\n",
    "\n",
    "* $\\tau = -\\tfrac{E_0}{\\dot{E}_0}$\n",
    "\n",
    "##### Conversion of Rotational Energy into Dipole Radiation\n",
    "\n",
    "* $E = \\tfrac{1}{2} I \\Omega^2$\n",
    "* $\\dot{E} = I \\Omega\\dot{\\Omega} = -K\\Omega^4$\n",
    "\n",
    "##### Spindown Time\n",
    "* $t_{SD} = \\dfrac{I_{NS}}{2K\\Omega_0^2}$\n",
    "\n",
    "##### Time Dependence\n",
    "* $\\Omega = \\Omega_0 \\left( 1 + \\tfrac{t}{t_{SD}} \\right)^{-1/2}$\n",
    "\n",
    "##### Luminosities of Tilted Dipole Rotator\n",
    "\n",
    "* Vacuum\n",
    "  * $L = \\dfrac{2\\mu_{NS}^2\\Omega_0^4\\sin^2\\!\\chi}{3c^3} \\left( 1 + \\tfrac{t}{t_{SD}} \\right)^{-2}$\n",
    "* Force Free\n",
    "  * $L = \\dfrac{\\mu_{NS}^2\\Omega_0^4 \\left( 1 + \\sin^2\\!\\chi \\right)}{c^3} \\left( 1 + \\tfrac{t}{t_{SD}} \\right)^{-2}$\n",
    "\n",
    "##### Dipole Moment of a Homogeneously Magnetized Sharply Bound Sphere\n",
    "\n",
    "* $\\mu_{NS}^2 = \\dfrac{B_{NS}^2R_{NS}^6}{4}$\n",
    "\n",
    "##### Light Cylinder\n",
    "\n",
    "* $R_{LC} = \\tfrac{c}{\\Omega}$\n",
    "\n",
    "##### Charged Particle Acceleration\n",
    "\n",
    "* Magnetic Flux\n",
    "  * $\\Psi = \\mu_{NS}R_{LC}^{-1}$\n",
    "* Potential Drop\n",
    "  * $\\Phi = \\Psi R_{LC}^{-1}$\n",
    "* Maximum Kinetic Energy\n",
    "  * $E_\\text{max} = e \\Phi$\n",
    "* Monochromatic Inefficiency Dampened Energy\n",
    "  * $E_M = f_\\text{acc} E_\\text{max}$\n",
    "\n",
    "##### Discrete Proton Spectrum\n",
    "\n",
    "* Idealized Space Charge Density\n",
    "  * $\\rho = \\dfrac{B_{NS}\\,\\Omega}{2\\pi c}$\n",
    "* Proton Number Density\n",
    "  * $n_p = \\tfrac{\\rho}{e}$\n",
    "* Polar Cap\n",
    "  * $R_{PC} = R_{NS} \\sqrt{\\dfrac{R_{NS}}{R_{LC}}}$\n",
    "* Integrating\n",
    "  * $dN_p = n_p \\,dx\\,dy\\,dz$\n",
    "  * $d\\dot{N}_p = n_p \\,dx\\,dy\\tfrac{dz}{dt} = c n_p \\,dx\\,dy$\n",
    "  * $\\dot{N}_p = 2\\pi c n_p R_{PC}^2 = 2\\pi n_p R_{NS}^3 \\Omega$\n",
    "* Spectrum\n",
    "  * $\\dfrac{d\\dot{N}_p}{dE_p} = \\dfrac{B_{NS}R_{NS}^3 \\Omega^2}{ec \\,\\bigl(\\, 1 + \\tfrac{t}{t_{SD}} \\,\\bigl)} \\,\\delta(E_p - E_M)$"
   ]
  },
  {
   "cell_type": "code",
   "execution_count": null,
   "id": "7b34c171-c648-49ed-aca6-1cf718af0ab3",
   "metadata": {},
   "outputs": [],
   "source": []
  },
  {
   "cell_type": "markdown",
   "id": "508413ce-251a-4cac-86b9-da9196c7d7c5",
   "metadata": {},
   "source": [
    "### 1.2 Active Galactic Nuclei"
   ]
  },
  {
   "cell_type": "code",
   "execution_count": null,
   "id": "b7616d7f",
   "metadata": {},
   "outputs": [],
   "source": []
  },
  {
   "cell_type": "markdown",
   "id": "a7e91b69",
   "metadata": {},
   "source": [
    "### 1.2 Active Galactic Nuclei"
   ]
  },
  {
   "cell_type": "markdown",
   "id": "0dbde2bf",
   "metadata": {},
   "source": [
    "## 2 Hadronic Spectra in the Region of Origin"
   ]
  },
  {
   "cell_type": "markdown",
   "id": "582ae6c7",
   "metadata": {},
   "source": [
    "### 2.1 Injection\n",
    "\n",
    "#### 2.1.1 Magnetar\n",
    "\n",
    "#### 2.1.2 Active Galactic Nucleus"
   ]
  },
  {
   "cell_type": "markdown",
   "id": "6a1ed042",
   "metadata": {},
   "source": [
    "### 2.2 Production\n",
    "\n",
    "#### 2.2.1 Magnetar\n",
    "\n",
    "#### 2.2.2 Active Galactic Nucleus"
   ]
  },
  {
   "cell_type": "markdown",
   "id": "4d553aac",
   "metadata": {},
   "source": [
    "## 3 Neutrino Spectrum at the Detector"
   ]
  },
  {
   "cell_type": "markdown",
   "id": "5e202832",
   "metadata": {},
   "source": [
    "### 3.1 Decay Processes"
   ]
  },
  {
   "cell_type": "markdown",
   "id": "d2e2297f",
   "metadata": {},
   "source": [
    "### 3.2 Measurement"
   ]
  }
 ],
 "metadata": {
  "kernelspec": {
   "display_name": "Python 3 (ipykernel)",
   "language": "python",
   "name": "python3"
  },
  "language_info": {
   "codemirror_mode": {
    "name": "ipython",
    "version": 3
   },
   "file_extension": ".py",
   "mimetype": "text/x-python",
   "name": "python",
   "nbconvert_exporter": "python",
   "pygments_lexer": "ipython3",
   "version": "3.9.18"
  }
 },
 "nbformat": 4,
 "nbformat_minor": 5
}
